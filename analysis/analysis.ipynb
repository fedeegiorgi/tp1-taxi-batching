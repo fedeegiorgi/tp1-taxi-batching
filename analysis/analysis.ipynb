{
 "cells": [
  {
   "cell_type": "code",
   "execution_count": 1,
   "metadata": {},
   "outputs": [],
   "source": [
    "import pandas as pd\n",
    "\n",
    "df = pd.read_csv('results.csv')"
   ]
  },
  {
   "cell_type": "code",
   "execution_count": 2,
   "metadata": {},
   "outputs": [],
   "source": [
    "# Define a lambda function to convert integers to float\n",
    "to_decimal = lambda x: x / 10\n",
    "\n",
    "df['batching_obj_val'] = df['batching_obj_val'].apply(to_decimal)"
   ]
  },
  {
   "cell_type": "code",
   "execution_count": 4,
   "metadata": {},
   "outputs": [],
   "source": [
    "# ejercicio 4 (calculo de mejora de batching contra greedy)\n",
    "\n",
    "df['ov_gap%'] = (df['greedy_obj_val'] - df['batching_obj_val']) / df['greedy_obj_val']\n",
    "\n",
    "# gap entre tiempo de greedy y tiempo batching\n",
    "df['time_gap%'] = (df['greedy_time'] - df['batching_time']) / df['greedy_time']"
   ]
  }
 ],
 "metadata": {
  "kernelspec": {
   "display_name": "Python 3",
   "language": "python",
   "name": "python3"
  },
  "language_info": {
   "codemirror_mode": {
    "name": "ipython",
    "version": 3
   },
   "file_extension": ".py",
   "mimetype": "text/x-python",
   "name": "python",
   "nbconvert_exporter": "python",
   "pygments_lexer": "ipython3",
   "version": "3.10.9"
  },
  "orig_nbformat": 4
 },
 "nbformat": 4,
 "nbformat_minor": 2
}
